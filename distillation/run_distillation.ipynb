{
 "cells": [
  {
   "cell_type": "markdown",
   "metadata": {},
   "source": [
    "# Neuron Distillation Training\n",
    "\n",
    "This notebook converts the `run_distillation.sh` script to run knowledge distillation training on AWS Neuron."
   ]
  },
  {
   "cell_type": "markdown",
   "metadata": {},
   "source": [
    "## Environment Setup"
   ]
  },
  {
   "cell_type": "code",
   "execution_count": 1,
   "metadata": {},
   "outputs": [],
   "source": [
    "import os\n",
    "\n",
    "# Set Neuron compilation flags\n",
    "os.environ['NEURON_CC_FLAGS'] = \"--model-type transformer --retry_failed_compilation\"\n",
    "os.environ['NEURON_FUSE_SOFTMAX'] = \"1\"\n",
    "os.environ['NEURON_RT_ASYNC_EXEC_MAX_INFLIGHT_REQUESTS'] = \"3\"\n",
    "os.environ['MALLOC_ARENA_MAX'] = \"64\"\n",
    "os.environ['WORLD_SIZE'] = \"8\""
   ]
  },
  {
   "cell_type": "markdown",
   "metadata": {},
   "source": [
    "## Training Configuration"
   ]
  },
  {
   "cell_type": "code",
   "execution_count": 2,
   "metadata": {},
   "outputs": [
    {
     "name": "stdout",
     "output_type": "stream",
     "text": [
      "Model: meta-llama/Llama-3.2-1B-Instruct\n",
      "Output directory: Llama-3.2-1B-Instruct-finetuned\n",
      "Max steps: -1\n"
     ]
    }
   ],
   "source": [
    "# Training parameters\n",
    "PROCESSES_PER_NODE = 2\n",
    "NUM_EPOCHS = 3\n",
    "TP_DEGREE = 2\n",
    "BS = 1\n",
    "GRADIENT_ACCUMULATION_STEPS = 16\n",
    "LOGGING_STEPS = 1\n",
    "MODEL_NAME = \"meta-llama/Llama-3.2-1B-Instruct\"\n",
    "OUTPUT_DIR = f\"{MODEL_NAME.split('/')[-1]}-finetuned\"\n",
    "\n",
    "# Set max steps based on environment\n",
    "MAX_STEPS = 5 if os.environ.get('NEURON_EXTRACT_GRAPHS_ONLY') == '1' else -1\n",
    "\n",
    "print(f\"Model: {MODEL_NAME}\")\n",
    "print(f\"Output directory: {OUTPUT_DIR}\")\n",
    "print(f\"Max steps: {MAX_STEPS}\")"
   ]
  },
  {
   "cell_type": "markdown",
   "metadata": {},
   "source": [
    "## KnowledgeDistillationTrainer Code\n",
    "\n",
    "Let's examine the KnowledgeDistillationTrainer class from `distill_neuron_torchrun.py`:"
   ]
  },
  {
   "cell_type": "code",
   "execution_count": null,
   "metadata": {},
   "outputs": [],
   "source": [
    "%load -r 34-78 src/distill_neuron_torchrun.py\n"
   ]
  },
  {
   "cell_type": "markdown",
   "metadata": {},
   "source": [
    "## Key Methods of KnowledgeDistillationTrainer\n",
    "\n",
    "The `compute_loss` method is the core of the knowledge distillation process:"
   ]
  },
  {
   "cell_type": "code",
   "execution_count": null,
   "metadata": {},
   "outputs": [],
   "source": [
    "%load -r 40-78 src/distill_neuron_torchrun.py\n"
   ]
  },
  {
   "cell_type": "markdown",
   "metadata": {},
   "source": [
    "## Run Distillation Training\n",
    "\n",
    "Execute the training with torchrun:"
   ]
  },
  {
   "cell_type": "code",
   "execution_count": null,
   "metadata": {},
   "outputs": [
    {
     "name": "stdout",
     "output_type": "stream",
     "text": [
      "Running command:\n",
      "torchrun --nproc_per_node 2 src/distill_neuron_torchrun.py --model_id meta-llama/Llama-3.2-1B-Instruct --num_train_epochs 3 --do_train --max_steps -1 --per_device_train_batch_size 1 --gradient_accumulation_steps 16 --learning_rate 1e-4 --bf16 --tensor_parallel_size 2 --warmup_steps 5 --pipeline_parallel_size 1 --logging_steps 1 --output_dir Llama-3.2-1B-Instruct-finetuned --overwrite_output_dir\n",
      "\n",
      "==================================================\n"
     ]
    }
   ],
   "source": [
    "import subprocess\n",
    "\n",
    "# Build the torchrun command\n",
    "cmd = [\n",
    "    \"torchrun\",\n",
    "    \"--nproc_per_node\", str(PROCESSES_PER_NODE),\n",
    "    \"src/distill_neuron_torchrun.py\",\n",
    "    \"--model_id\", MODEL_NAME,\n",
    "    \"--num_train_epochs\", str(NUM_EPOCHS),\n",
    "    \"--do_train\",\n",
    "    \"--max_steps\", str(MAX_STEPS),\n",
    "    \"--per_device_train_batch_size\", str(BS),\n",
    "    \"--gradient_accumulation_steps\", str(GRADIENT_ACCUMULATION_STEPS),\n",
    "    \"--learning_rate\", \"1e-4\",\n",
    "    \"--bf16\",\n",
    "    \"--tensor_parallel_size\", str(TP_DEGREE),\n",
    "    \"--warmup_steps\", \"5\",\n",
    "    \"--pipeline_parallel_size\", \"1\",\n",
    "    \"--logging_steps\", str(LOGGING_STEPS),\n",
    "    \"--output_dir\", OUTPUT_DIR,\n",
    "    \"--overwrite_output_dir\"\n",
    "]\n",
    "\n",
    "print(\"Running command:\")\n",
    "print(\" \".join(cmd))\n",
    "print(\"\\n\" + \"=\"*50)\n",
    "\n",
    "# Execute the command\n",
    "result = subprocess.run(cmd, capture_output=True, text=True)\n",
    "print(\"STDOUT:\")\n",
    "print(result.stdout)\n",
    "if result.stderr:\n",
    "    print(\"\\nSTDERR:\")\n",
    "    print(result.stderr)\n",
    "print(f\"\\nReturn code: {result.returncode}\")"
   ]
  },
  {
   "cell_type": "code",
   "execution_count": null,
   "metadata": {},
   "outputs": [],
   "source": []
  }
 ],
 "metadata": {
  "kernelspec": {
   "display_name": "aws_neuronx_venv_pytorch_2_7",
   "language": "python",
   "name": "aws_neuronx_venv_pytorch_2_7"
  },
  "language_info": {
   "codemirror_mode": {
    "name": "ipython",
    "version": 3
   },
   "file_extension": ".py",
   "mimetype": "text/x-python",
   "name": "python",
   "nbconvert_exporter": "python",
   "pygments_lexer": "ipython3",
   "version": "3.10.12"
  }
 },
 "nbformat": 4,
 "nbformat_minor": 4
}
